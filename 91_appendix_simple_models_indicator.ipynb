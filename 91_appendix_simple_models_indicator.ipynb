{
 "cells": [
  {
   "cell_type": "markdown",
   "id": "b1569d6c-32c5-42e2-961a-e9c191de9dec",
   "metadata": {},
   "source": [
    "## Appendix: Simple models with dummy\n",
    "*Tim Braams (8460701), Vinh Phan (8462380), Maximilian Pintilie (8462780), Rahul Singh (8464147), Kartik Vijay (8463465), Diego Zucchino (8345420)*   \n",
    "  \n",
    "This notebook is the same as the 90_appendix notebook with simple models but with an added dummy variables for the asset type to capute crypto specific details."
   ]
  },
  {
   "cell_type": "code",
   "execution_count": 24,
   "id": "65cc6541-73bd-41d8-8802-498c8474016c",
   "metadata": {},
   "outputs": [],
   "source": [
    "import os\n",
    "import pandas as pd\n",
    "from sklearn.metrics import mean_squared_error, mean_absolute_error\n",
    "\n",
    "import scripts\n",
    "import scripts.ResultStore as rs\n",
    "import scripts.FitPredict as fp\n",
    "pd.set_option(\"display.precision\", 8)"
   ]
  },
  {
   "cell_type": "markdown",
   "id": "7655f5aa-7462-4ffc-9eca-43b10390a998",
   "metadata": {},
   "source": [
    "### Load data"
   ]
  },
  {
   "cell_type": "code",
   "execution_count": 2,
   "id": "e69bb63a-a1b7-4097-ac8a-55bf14337485",
   "metadata": {},
   "outputs": [],
   "source": [
    "train = pd.read_json(\"../02_Pool_Data/pooled_train_300.json\")\n",
    "test = pd.read_json(\"../02_Pool_Data/pooled_test_300.json\")"
   ]
  },
  {
   "cell_type": "code",
   "execution_count": 3,
   "id": "c20a1344-b5ac-4173-ac1e-4a0a420f04f6",
   "metadata": {},
   "outputs": [],
   "source": [
    "train = train.loc[~(train==0).any(axis=1)]\n",
    "y_train = train[\"returns\"]\n",
    "X_train = train.drop([\"index\", \"returns\", \"asset\"], axis=1)\n",
    "X_train = pd.concat([X_train, pd.get_dummies(train[\"asset\"])], axis=1)\n",
    "\n",
    "y_test = test[\"returns\"]\n",
    "X_test = test.drop([\"index\", \"returns\", \"asset\"], axis=1)\n",
    "X_test = pd.concat([X_test, pd.get_dummies(test[\"asset\"])], axis=1)"
   ]
  },
  {
   "cell_type": "markdown",
   "id": "89e587a4-d408-43bb-b570-fb382add9a15",
   "metadata": {},
   "source": [
    "### Helper functions"
   ]
  },
  {
   "cell_type": "code",
   "execution_count": 4,
   "id": "a51a5fd8-eec5-4572-801f-4c63ed085c9a",
   "metadata": {},
   "outputs": [],
   "source": [
    "results = rs.ResultStore(load_if_exists=False)"
   ]
  },
  {
   "cell_type": "markdown",
   "id": "8908d316-aa47-4bcb-9f51-ec7bb280fa29",
   "metadata": {},
   "source": [
    "### Baseline"
   ]
  },
  {
   "cell_type": "code",
   "execution_count": 6,
   "id": "03e7fc24-a6f9-40d8-ad13-d1d7644eea1b",
   "metadata": {},
   "outputs": [],
   "source": [
    "from sklearn.dummy import DummyRegressor\n",
    "dummy_model, dummy_predictions, dummy_results = fp.fit_predict(DummyRegressor(strategy=\"mean\"), \n",
    "                                                            X_fit=X_train, y_fit=y_train,\n",
    "                                                            X_validate=X_test, y_validate=y_test,\n",
    "                                                            store=results)"
   ]
  },
  {
   "cell_type": "markdown",
   "id": "88261853-53fb-4394-b4a2-758beb8cf8b8",
   "metadata": {},
   "source": [
    "### Linear Regression\n",
    "https://scikit-learn.org/stable/modules/generated/sklearn.linear_model.LinearRegression.html#sklearn.linear_model.LinearRegression"
   ]
  },
  {
   "cell_type": "code",
   "execution_count": 8,
   "id": "31ee9353-afce-4078-ba7a-1eff6e227354",
   "metadata": {},
   "outputs": [],
   "source": [
    "from sklearn.linear_model import LinearRegression\n",
    "linear_model, linear_predictions, linear_results = fp.fit_predict(LinearRegression(), \n",
    "                                                               X_fit=X_train, y_fit=y_train,\n",
    "                                                               X_validate=X_test, y_validate=y_test, \n",
    "                                                               store=results)"
   ]
  },
  {
   "cell_type": "markdown",
   "id": "cabe7818-0dc7-4246-9fda-7819d99bc3e9",
   "metadata": {},
   "source": [
    "### Support Vector Machine\n",
    "https://scikit-learn.org/stable/modules/generated/sklearn.svm.SVR.html#sklearn.svm.SVR"
   ]
  },
  {
   "cell_type": "code",
   "execution_count": 9,
   "id": "5eef671f-4072-4ec4-8571-e8550140104b",
   "metadata": {},
   "outputs": [],
   "source": [
    "from sklearn.svm import SVR"
   ]
  },
  {
   "cell_type": "code",
   "execution_count": 10,
   "id": "bd72a4d8-a2b6-4df9-9ecb-d15f4181088c",
   "metadata": {},
   "outputs": [],
   "source": [
    "svr_model, svr_predictions, svr_results = fp.fit_predict(SVR(kernel=\"rbf\", C=1, gamma=0.1, epsilon=0.1), store=results, X_fit=X_train, y_fit=y_train,\n",
    "                                                               X_validate=X_test, y_validate=y_test)"
   ]
  },
  {
   "cell_type": "markdown",
   "id": "3dcdce6c-d70d-4ba2-bef3-1a1baf98f71b",
   "metadata": {},
   "source": [
    "### ElasticNet\n",
    "https://scikit-learn.org/stable/modules/generated/sklearn.linear_model.ElasticNet.html#sklearn.linear_model.ElasticNet"
   ]
  },
  {
   "cell_type": "code",
   "execution_count": 11,
   "id": "8b367fc0-b278-4a6d-9102-d6826cebfc42",
   "metadata": {},
   "outputs": [],
   "source": [
    "from sklearn.linear_model import ElasticNet"
   ]
  },
  {
   "cell_type": "code",
   "execution_count": 12,
   "id": "f1e73260-29cf-434b-91d2-97c4c2da5910",
   "metadata": {},
   "outputs": [],
   "source": [
    "elastic_model, elastic_predictions, elastic_results = fp.fit_predict(ElasticNet(), \n",
    "                                                                     X_fit=X_train, y_fit=y_train,\n",
    "                                                               X_validate=X_test, y_validate=y_test, store=results)"
   ]
  },
  {
   "cell_type": "markdown",
   "id": "24592571-f4ef-49d5-bdf0-cb45d10037ca",
   "metadata": {},
   "source": [
    "### PLS Regression\n",
    "https://scikit-learn.org/stable/modules/generated/sklearn.cross_decomposition.PLSRegression.html#sklearn.cross_decomposition.PLSRegression"
   ]
  },
  {
   "cell_type": "code",
   "execution_count": 13,
   "id": "076955ee-ff67-4414-aea4-6ca4ec85ab23",
   "metadata": {},
   "outputs": [],
   "source": [
    "from sklearn.cross_decomposition import PLSRegression"
   ]
  },
  {
   "cell_type": "code",
   "execution_count": 14,
   "id": "9365468c-1222-48c3-a6ca-78a83161e327",
   "metadata": {},
   "outputs": [],
   "source": [
    "pls_model, pls_predictions, pls_results = fp.fit_predict(PLSRegression(), X_fit=X_train, y_fit=y_train,\n",
    "                                                               X_validate=X_test, y_validate=y_test, store=results)"
   ]
  },
  {
   "cell_type": "markdown",
   "id": "daebcd84-7059-4f62-bd25-3c4d99339bb8",
   "metadata": {},
   "source": [
    "### Gradient Boosting\n",
    "https://scikit-learn.org/stable/modules/generated/sklearn.ensemble.GradientBoostingRegressor.html#sklearn.ensemble.GradientBoostingRegressor"
   ]
  },
  {
   "cell_type": "code",
   "execution_count": 15,
   "id": "a6d77fd7-2460-4368-bfcc-ac54c8052713",
   "metadata": {},
   "outputs": [],
   "source": [
    "from sklearn.ensemble import GradientBoostingRegressor"
   ]
  },
  {
   "cell_type": "code",
   "execution_count": 16,
   "id": "3c1190a8-9691-4058-9969-c88d0fabf9ca",
   "metadata": {},
   "outputs": [],
   "source": [
    "gbr_model, gbr_predictions, gbr_results = fp.fit_predict(GradientBoostingRegressor(), X_fit=X_train, y_fit=y_train,\n",
    "                                                               X_validate=X_test, y_validate=y_test, store=results)"
   ]
  },
  {
   "cell_type": "markdown",
   "id": "db5fae24-3773-4ebd-a95d-a159313f5234",
   "metadata": {
    "tags": []
   },
   "source": [
    "### XGBoost\n",
    "https://xgboost.readthedocs.io/en/stable/python/python_api.html#module-xgboost.sklearn"
   ]
  },
  {
   "cell_type": "code",
   "execution_count": 17,
   "id": "3115ae51-f143-4953-8cdf-68bcfd55e718",
   "metadata": {},
   "outputs": [],
   "source": [
    "from xgboost import XGBRegressor"
   ]
  },
  {
   "cell_type": "code",
   "execution_count": 18,
   "id": "4047e6e4-b93f-4df1-8599-4a3f4527e90e",
   "metadata": {},
   "outputs": [],
   "source": [
    "xgb_model, xgb_predictions, xgb_results = fp.fit_predict(XGBRegressor(), X_fit=X_train, y_fit=y_train,\n",
    "                                                               X_validate=X_test, y_validate=y_test, store=results)"
   ]
  },
  {
   "cell_type": "markdown",
   "id": "e23b7cde-8d05-41dd-bef8-307c50c28981",
   "metadata": {},
   "source": [
    "### MLP\n",
    "https://scikit-learn.org/stable/modules/generated/sklearn.neural_network.MLPRegressor.html#sklearn.neural_network.MLPRegressor"
   ]
  },
  {
   "cell_type": "code",
   "execution_count": 19,
   "id": "ef3e35c8-1261-4f5d-ac6f-86e036059b20",
   "metadata": {},
   "outputs": [],
   "source": [
    "from sklearn.neural_network import MLPRegressor"
   ]
  },
  {
   "cell_type": "code",
   "execution_count": 20,
   "id": "302f4e8b-4f07-430c-96e2-ec76ab9ba33b",
   "metadata": {},
   "outputs": [],
   "source": [
    "mlp_model, mlp_predictions, mlp_results = fp.fit_predict(MLPRegressor(), X_fit=X_train, y_fit=y_train,\n",
    "                                                               X_validate=X_test, y_validate=y_test, store=results)"
   ]
  },
  {
   "cell_type": "markdown",
   "id": "fb4cbe3e-e541-485b-885f-4a39be954f35",
   "metadata": {},
   "source": [
    "### Results\n",
    "The results are very similar or worse than for the same models without dummies. As we try to keep our data sparse, we will not use dummies for further analysis."
   ]
  },
  {
   "cell_type": "code",
   "execution_count": 25,
   "id": "18580b08-39f8-4e06-b340-09873341d51a",
   "metadata": {},
   "outputs": [
    {
     "data": {
      "text/html": [
       "<div>\n",
       "<style scoped>\n",
       "    .dataframe tbody tr th:only-of-type {\n",
       "        vertical-align: middle;\n",
       "    }\n",
       "\n",
       "    .dataframe tbody tr th {\n",
       "        vertical-align: top;\n",
       "    }\n",
       "\n",
       "    .dataframe thead th {\n",
       "        text-align: right;\n",
       "    }\n",
       "</style>\n",
       "<table border=\"1\" class=\"dataframe\">\n",
       "  <thead>\n",
       "    <tr style=\"text-align: right;\">\n",
       "      <th></th>\n",
       "      <th>model</th>\n",
       "      <th>predictions</th>\n",
       "      <th>truth</th>\n",
       "      <th>meta</th>\n",
       "      <th>mae</th>\n",
       "      <th>mse</th>\n",
       "      <th>train_mae</th>\n",
       "      <th>train_mse</th>\n",
       "    </tr>\n",
       "  </thead>\n",
       "  <tbody>\n",
       "    <tr>\n",
       "      <th>5</th>\n",
       "      <td>GradientBoostingRegressor</td>\n",
       "      <td>[0.001105356449188105, -0.000500846874069192, ...</td>\n",
       "      <td>[0.0, 0.006618656200000001, -0.003158927, -0.0...</td>\n",
       "      <td>{'alpha': 0.9, 'ccp_alpha': 0.0, 'criterion': ...</td>\n",
       "      <td>0.00573692</td>\n",
       "      <td>0.00007544</td>\n",
       "      <td>0.00733018</td>\n",
       "      <td>0.00014625</td>\n",
       "    </tr>\n",
       "    <tr>\n",
       "      <th>6</th>\n",
       "      <td>XGBRegressor</td>\n",
       "      <td>[0.00086879876, -0.00023733264, -0.00050619536...</td>\n",
       "      <td>[0.0, 0.006618656200000001, -0.003158927, -0.0...</td>\n",
       "      <td>{'objective': 'reg:squarederror', 'base_score'...</td>\n",
       "      <td>0.00576461</td>\n",
       "      <td>0.00007606</td>\n",
       "      <td>0.00673906</td>\n",
       "      <td>0.00010763</td>\n",
       "    </tr>\n",
       "    <tr>\n",
       "      <th>4</th>\n",
       "      <td>PLSRegression</td>\n",
       "      <td>[[0.001723354516958207], [-0.00080048045726182...</td>\n",
       "      <td>[0.0, 0.006618656200000001, -0.003158927, -0.0...</td>\n",
       "      <td>{'copy': True, 'max_iter': 500, 'n_components'...</td>\n",
       "      <td>0.00578427</td>\n",
       "      <td>0.00007615</td>\n",
       "      <td>0.00739002</td>\n",
       "      <td>0.00015421</td>\n",
       "    </tr>\n",
       "    <tr>\n",
       "      <th>1</th>\n",
       "      <td>LinearRegression</td>\n",
       "      <td>[0.0015773773193359375, -0.0008907318115234375...</td>\n",
       "      <td>[0.0, 0.006618656200000001, -0.003158927, -0.0...</td>\n",
       "      <td>{'copy_X': True, 'fit_intercept': True, 'n_job...</td>\n",
       "      <td>0.00578664</td>\n",
       "      <td>0.00007623</td>\n",
       "      <td>0.00739102</td>\n",
       "      <td>0.00015420</td>\n",
       "    </tr>\n",
       "    <tr>\n",
       "      <th>7</th>\n",
       "      <td>MLPRegressor</td>\n",
       "      <td>[0.0010900525827550397, 4.730280171024066e-05,...</td>\n",
       "      <td>[0.0, 0.006618656200000001, -0.003158927, -0.0...</td>\n",
       "      <td>{'activation': 'relu', 'alpha': 0.0001, 'batch...</td>\n",
       "      <td>0.00580450</td>\n",
       "      <td>0.00007675</td>\n",
       "      <td>0.00739775</td>\n",
       "      <td>0.00015091</td>\n",
       "    </tr>\n",
       "    <tr>\n",
       "      <th>0</th>\n",
       "      <td>DummyRegressor</td>\n",
       "      <td>[0.00016026363705720398, 0.0001602636370572039...</td>\n",
       "      <td>[0.0, 0.006618656200000001, -0.003158927, -0.0...</td>\n",
       "      <td>{'constant': None, 'quantile': None, 'strategy...</td>\n",
       "      <td>0.00580505</td>\n",
       "      <td>0.00007749</td>\n",
       "      <td>0.00744410</td>\n",
       "      <td>0.00015741</td>\n",
       "    </tr>\n",
       "    <tr>\n",
       "      <th>3</th>\n",
       "      <td>ElasticNet</td>\n",
       "      <td>[0.00016026363705720398, 0.0001602636370572039...</td>\n",
       "      <td>[0.0, 0.006618656200000001, -0.003158927, -0.0...</td>\n",
       "      <td>{'alpha': 1.0, 'copy_X': True, 'fit_intercept'...</td>\n",
       "      <td>0.00580505</td>\n",
       "      <td>0.00007749</td>\n",
       "      <td>0.00744410</td>\n",
       "      <td>0.00015741</td>\n",
       "    </tr>\n",
       "    <tr>\n",
       "      <th>2</th>\n",
       "      <td>SVR</td>\n",
       "      <td>[0.008887106052815175, 0.022087976711780644, 0...</td>\n",
       "      <td>[0.0, 0.006618656200000001, -0.003158927, -0.0...</td>\n",
       "      <td>{'C': 1, 'cache_size': 200, 'coef0': 0.0, 'deg...</td>\n",
       "      <td>0.00994051</td>\n",
       "      <td>0.00016555</td>\n",
       "      <td>0.01093575</td>\n",
       "      <td>0.00023965</td>\n",
       "    </tr>\n",
       "  </tbody>\n",
       "</table>\n",
       "</div>"
      ],
      "text/plain": [
       "                       model  \\\n",
       "5  GradientBoostingRegressor   \n",
       "6               XGBRegressor   \n",
       "4              PLSRegression   \n",
       "1           LinearRegression   \n",
       "7               MLPRegressor   \n",
       "0             DummyRegressor   \n",
       "3                 ElasticNet   \n",
       "2                        SVR   \n",
       "\n",
       "                                         predictions  \\\n",
       "5  [0.001105356449188105, -0.000500846874069192, ...   \n",
       "6  [0.00086879876, -0.00023733264, -0.00050619536...   \n",
       "4  [[0.001723354516958207], [-0.00080048045726182...   \n",
       "1  [0.0015773773193359375, -0.0008907318115234375...   \n",
       "7  [0.0010900525827550397, 4.730280171024066e-05,...   \n",
       "0  [0.00016026363705720398, 0.0001602636370572039...   \n",
       "3  [0.00016026363705720398, 0.0001602636370572039...   \n",
       "2  [0.008887106052815175, 0.022087976711780644, 0...   \n",
       "\n",
       "                                               truth  \\\n",
       "5  [0.0, 0.006618656200000001, -0.003158927, -0.0...   \n",
       "6  [0.0, 0.006618656200000001, -0.003158927, -0.0...   \n",
       "4  [0.0, 0.006618656200000001, -0.003158927, -0.0...   \n",
       "1  [0.0, 0.006618656200000001, -0.003158927, -0.0...   \n",
       "7  [0.0, 0.006618656200000001, -0.003158927, -0.0...   \n",
       "0  [0.0, 0.006618656200000001, -0.003158927, -0.0...   \n",
       "3  [0.0, 0.006618656200000001, -0.003158927, -0.0...   \n",
       "2  [0.0, 0.006618656200000001, -0.003158927, -0.0...   \n",
       "\n",
       "                                                meta         mae         mse  \\\n",
       "5  {'alpha': 0.9, 'ccp_alpha': 0.0, 'criterion': ...  0.00573692  0.00007544   \n",
       "6  {'objective': 'reg:squarederror', 'base_score'...  0.00576461  0.00007606   \n",
       "4  {'copy': True, 'max_iter': 500, 'n_components'...  0.00578427  0.00007615   \n",
       "1  {'copy_X': True, 'fit_intercept': True, 'n_job...  0.00578664  0.00007623   \n",
       "7  {'activation': 'relu', 'alpha': 0.0001, 'batch...  0.00580450  0.00007675   \n",
       "0  {'constant': None, 'quantile': None, 'strategy...  0.00580505  0.00007749   \n",
       "3  {'alpha': 1.0, 'copy_X': True, 'fit_intercept'...  0.00580505  0.00007749   \n",
       "2  {'C': 1, 'cache_size': 200, 'coef0': 0.0, 'deg...  0.00994051  0.00016555   \n",
       "\n",
       "    train_mae   train_mse  \n",
       "5  0.00733018  0.00014625  \n",
       "6  0.00673906  0.00010763  \n",
       "4  0.00739002  0.00015421  \n",
       "1  0.00739102  0.00015420  \n",
       "7  0.00739775  0.00015091  \n",
       "0  0.00744410  0.00015741  \n",
       "3  0.00744410  0.00015741  \n",
       "2  0.01093575  0.00023965  "
      ]
     },
     "execution_count": 25,
     "metadata": {},
     "output_type": "execute_result"
    }
   ],
   "source": [
    "# results with dummy\n",
    "results.get_df().sort_values(\"mse\")"
   ]
  },
  {
   "cell_type": "code",
   "execution_count": 26,
   "id": "203c9eba-0e0c-43e5-a59e-3e1e49ffe5b6",
   "metadata": {},
   "outputs": [
    {
     "data": {
      "text/html": [
       "<div>\n",
       "<style scoped>\n",
       "    .dataframe tbody tr th:only-of-type {\n",
       "        vertical-align: middle;\n",
       "    }\n",
       "\n",
       "    .dataframe tbody tr th {\n",
       "        vertical-align: top;\n",
       "    }\n",
       "\n",
       "    .dataframe thead th {\n",
       "        text-align: right;\n",
       "    }\n",
       "</style>\n",
       "<table border=\"1\" class=\"dataframe\">\n",
       "  <thead>\n",
       "    <tr style=\"text-align: right;\">\n",
       "      <th></th>\n",
       "      <th>model</th>\n",
       "      <th>predictions</th>\n",
       "      <th>truth</th>\n",
       "      <th>meta</th>\n",
       "      <th>mae</th>\n",
       "      <th>mse</th>\n",
       "      <th>train_mae</th>\n",
       "      <th>train_mse</th>\n",
       "    </tr>\n",
       "  </thead>\n",
       "  <tbody>\n",
       "    <tr>\n",
       "      <th>5</th>\n",
       "      <td>GradientBoostingRegressor</td>\n",
       "      <td>[0.0011792028000000001, -0.0005076767, 2.86101...</td>\n",
       "      <td>[0.0, 0.006618656200000001, -0.003158927, -0.0...</td>\n",
       "      <td>{'alpha': 0.9, 'ccp_alpha': 0.0, 'criterion': ...</td>\n",
       "      <td>0.00573726</td>\n",
       "      <td>0.00007544</td>\n",
       "      <td>0.00733144</td>\n",
       "      <td>0.00014627</td>\n",
       "    </tr>\n",
       "    <tr>\n",
       "      <th>6</th>\n",
       "      <td>XGBRegressor</td>\n",
       "      <td>[0.0011033476, -0.00040828990000000003, 0.0003...</td>\n",
       "      <td>[0.0, 0.006618656200000001, -0.003158927, -0.0...</td>\n",
       "      <td>{'objective': 'reg:squarederror', 'base_score'...</td>\n",
       "      <td>0.00576150</td>\n",
       "      <td>0.00007602</td>\n",
       "      <td>0.00674717</td>\n",
       "      <td>0.00010793</td>\n",
       "    </tr>\n",
       "    <tr>\n",
       "      <th>4</th>\n",
       "      <td>PLSRegression</td>\n",
       "      <td>[[0.0012872598], [-0.0012361877], [0.001067160...</td>\n",
       "      <td>[0.0, 0.006618656200000001, -0.003158927, -0.0...</td>\n",
       "      <td>{'copy': True, 'max_iter': 500, 'n_components'...</td>\n",
       "      <td>0.00577798</td>\n",
       "      <td>0.00007611</td>\n",
       "      <td>0.00738981</td>\n",
       "      <td>0.00015421</td>\n",
       "    </tr>\n",
       "    <tr>\n",
       "      <th>1</th>\n",
       "      <td>LinearRegression</td>\n",
       "      <td>[0.001156612, -0.0013134642000000001, 0.000941...</td>\n",
       "      <td>[0.0, 0.006618656200000001, -0.003158927, -0.0...</td>\n",
       "      <td>{'copy_X': True, 'fit_intercept': True, 'n_job...</td>\n",
       "      <td>0.00578076</td>\n",
       "      <td>0.00007618</td>\n",
       "      <td>0.00739078</td>\n",
       "      <td>0.00015420</td>\n",
       "    </tr>\n",
       "    <tr>\n",
       "      <th>0</th>\n",
       "      <td>DummyRegressor</td>\n",
       "      <td>[0.0001602636, 0.0001602636, 0.0001602636, 0.0...</td>\n",
       "      <td>[0.0, 0.006618656200000001, -0.003158927, -0.0...</td>\n",
       "      <td>{'constant': None, 'quantile': None, 'strategy...</td>\n",
       "      <td>0.00580505</td>\n",
       "      <td>0.00007749</td>\n",
       "      <td>0.00744410</td>\n",
       "      <td>0.00015741</td>\n",
       "    </tr>\n",
       "    <tr>\n",
       "      <th>3</th>\n",
       "      <td>ElasticNet</td>\n",
       "      <td>[0.0001602636, 0.0001602636, 0.0001602636, 0.0...</td>\n",
       "      <td>[0.0, 0.006618656200000001, -0.003158927, -0.0...</td>\n",
       "      <td>{'alpha': 1.0, 'copy_X': True, 'fit_intercept'...</td>\n",
       "      <td>0.00580505</td>\n",
       "      <td>0.00007749</td>\n",
       "      <td>0.00744410</td>\n",
       "      <td>0.00015741</td>\n",
       "    </tr>\n",
       "    <tr>\n",
       "      <th>7</th>\n",
       "      <td>MLPRegressor</td>\n",
       "      <td>[-0.0007679914, -0.0033770513, -0.000556813900...</td>\n",
       "      <td>[0.0, 0.006618656200000001, -0.003158927, -0.0...</td>\n",
       "      <td>{'activation': 'relu', 'alpha': 0.0001, 'batch...</td>\n",
       "      <td>0.00607021</td>\n",
       "      <td>0.00007944</td>\n",
       "      <td>0.00757301</td>\n",
       "      <td>0.00014817</td>\n",
       "    </tr>\n",
       "    <tr>\n",
       "      <th>2</th>\n",
       "      <td>SVR</td>\n",
       "      <td>[-0.0013342614000000001, 0.0107576862, 0.00588...</td>\n",
       "      <td>[0.0, 0.006618656200000001, -0.003158927, -0.0...</td>\n",
       "      <td>{'C': 1, 'cache_size': 200, 'coef0': 0.0, 'deg...</td>\n",
       "      <td>0.00768159</td>\n",
       "      <td>0.00011426</td>\n",
       "      <td>0.00971360</td>\n",
       "      <td>0.00021763</td>\n",
       "    </tr>\n",
       "  </tbody>\n",
       "</table>\n",
       "</div>"
      ],
      "text/plain": [
       "                       model  \\\n",
       "5  GradientBoostingRegressor   \n",
       "6               XGBRegressor   \n",
       "4              PLSRegression   \n",
       "1           LinearRegression   \n",
       "0             DummyRegressor   \n",
       "3                 ElasticNet   \n",
       "7               MLPRegressor   \n",
       "2                        SVR   \n",
       "\n",
       "                                         predictions  \\\n",
       "5  [0.0011792028000000001, -0.0005076767, 2.86101...   \n",
       "6  [0.0011033476, -0.00040828990000000003, 0.0003...   \n",
       "4  [[0.0012872598], [-0.0012361877], [0.001067160...   \n",
       "1  [0.001156612, -0.0013134642000000001, 0.000941...   \n",
       "0  [0.0001602636, 0.0001602636, 0.0001602636, 0.0...   \n",
       "3  [0.0001602636, 0.0001602636, 0.0001602636, 0.0...   \n",
       "7  [-0.0007679914, -0.0033770513, -0.000556813900...   \n",
       "2  [-0.0013342614000000001, 0.0107576862, 0.00588...   \n",
       "\n",
       "                                               truth  \\\n",
       "5  [0.0, 0.006618656200000001, -0.003158927, -0.0...   \n",
       "6  [0.0, 0.006618656200000001, -0.003158927, -0.0...   \n",
       "4  [0.0, 0.006618656200000001, -0.003158927, -0.0...   \n",
       "1  [0.0, 0.006618656200000001, -0.003158927, -0.0...   \n",
       "0  [0.0, 0.006618656200000001, -0.003158927, -0.0...   \n",
       "3  [0.0, 0.006618656200000001, -0.003158927, -0.0...   \n",
       "7  [0.0, 0.006618656200000001, -0.003158927, -0.0...   \n",
       "2  [0.0, 0.006618656200000001, -0.003158927, -0.0...   \n",
       "\n",
       "                                                meta         mae         mse  \\\n",
       "5  {'alpha': 0.9, 'ccp_alpha': 0.0, 'criterion': ...  0.00573726  0.00007544   \n",
       "6  {'objective': 'reg:squarederror', 'base_score'...  0.00576150  0.00007602   \n",
       "4  {'copy': True, 'max_iter': 500, 'n_components'...  0.00577798  0.00007611   \n",
       "1  {'copy_X': True, 'fit_intercept': True, 'n_job...  0.00578076  0.00007618   \n",
       "0  {'constant': None, 'quantile': None, 'strategy...  0.00580505  0.00007749   \n",
       "3  {'alpha': 1.0, 'copy_X': True, 'fit_intercept'...  0.00580505  0.00007749   \n",
       "7  {'activation': 'relu', 'alpha': 0.0001, 'batch...  0.00607021  0.00007944   \n",
       "2  {'C': 1, 'cache_size': 200, 'coef0': 0.0, 'deg...  0.00768159  0.00011426   \n",
       "\n",
       "    train_mae   train_mse  \n",
       "5  0.00733144  0.00014627  \n",
       "6  0.00674717  0.00010793  \n",
       "4  0.00738981  0.00015421  \n",
       "1  0.00739078  0.00015420  \n",
       "0  0.00744410  0.00015741  \n",
       "3  0.00744410  0.00015741  \n",
       "7  0.00757301  0.00014817  \n",
       "2  0.00971360  0.00021763  "
      ]
     },
     "execution_count": 26,
     "metadata": {},
     "output_type": "execute_result"
    }
   ],
   "source": [
    "# results without dummy\n",
    "rs.ResultStore(load_if_exists=True, path=\"results\", name=\"simple.json\").get_df().sort_values(\"mse\")"
   ]
  },
  {
   "cell_type": "code",
   "execution_count": 27,
   "id": "370ed99d-7d63-4972-9fd9-514a3f9ed4cf",
   "metadata": {},
   "outputs": [],
   "source": [
    "results.save(path=\"results\", name=\"simple_dummy.json\")"
   ]
  },
  {
   "cell_type": "code",
   "execution_count": null,
   "id": "94a7e268-98eb-4590-951e-f3a58a7bb6d7",
   "metadata": {},
   "outputs": [],
   "source": []
  }
 ],
 "metadata": {
  "kernelspec": {
   "display_name": "Python 3",
   "language": "python",
   "name": "python3"
  },
  "language_info": {
   "codemirror_mode": {
    "name": "ipython",
    "version": 3
   },
   "file_extension": ".py",
   "mimetype": "text/x-python",
   "name": "python",
   "nbconvert_exporter": "python",
   "pygments_lexer": "ipython3",
   "version": "3.9.13"
  }
 },
 "nbformat": 4,
 "nbformat_minor": 5
}
