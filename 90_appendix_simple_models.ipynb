{
 "cells": [
  {
   "cell_type": "markdown",
   "id": "b1569d6c-32c5-42e2-961a-e9c191de9dec",
   "metadata": {},
   "source": [
    "## Appendix: Simple models\n",
    "*Tim Braams (8460701), Vinh Phan (8462380), Maximilian Pintilie (8462780), Rahul Singh (8464147), Kartik Vijay (8463465), Diego Zucchino (8345420)*   \n",
    "  \n",
    "Just a bunch of simple Sklearn models with default parameters applied to the data to get a feeling for model performance. More in-depth analysis can be found in the submission notebook."
   ]
  },
  {
   "cell_type": "code",
   "execution_count": 1,
   "id": "65cc6541-73bd-41d8-8802-498c8474016c",
   "metadata": {},
   "outputs": [],
   "source": [
    "import os\n",
    "import pandas as pd\n",
    "from sklearn.metrics import mean_squared_error, mean_absolute_error\n",
    "\n",
    "import scripts\n",
    "import scripts.ResultStore as rs\n",
    "import scripts.FitPredict as fp"
   ]
  },
  {
   "cell_type": "markdown",
   "id": "7655f5aa-7462-4ffc-9eca-43b10390a998",
   "metadata": {},
   "source": [
    "### Load data"
   ]
  },
  {
   "cell_type": "code",
   "execution_count": 2,
   "id": "e69bb63a-a1b7-4097-ac8a-55bf14337485",
   "metadata": {},
   "outputs": [],
   "source": [
    "train = pd.read_json(\"../02_Pool_Data/pooled_train_300.json\")\n",
    "test = pd.read_json(\"../02_Pool_Data/pooled_test_300.json\")"
   ]
  },
  {
   "cell_type": "code",
   "execution_count": 3,
   "id": "eb6edc27-9b94-4d75-a1a0-6f96c7714180",
   "metadata": {},
   "outputs": [],
   "source": [
    "train = train.loc[~(train==0).any(axis=1)]"
   ]
  },
  {
   "cell_type": "code",
   "execution_count": 4,
   "id": "c20a1344-b5ac-4173-ac1e-4a0a420f04f6",
   "metadata": {},
   "outputs": [],
   "source": [
    "y_train = train[\"returns\"]\n",
    "X_train = train.drop([\"index\", \"asset\", \"returns\"], axis=1)\n",
    "\n",
    "y_test = test[\"returns\"]\n",
    "X_test = test.drop([\"index\", \"asset\", \"returns\"], axis=1)"
   ]
  },
  {
   "cell_type": "markdown",
   "id": "89e587a4-d408-43bb-b570-fb382add9a15",
   "metadata": {},
   "source": [
    "### Helper functions"
   ]
  },
  {
   "cell_type": "code",
   "execution_count": 5,
   "id": "a51a5fd8-eec5-4572-801f-4c63ed085c9a",
   "metadata": {},
   "outputs": [],
   "source": [
    "results = rs.ResultStore(load_if_exists=False)"
   ]
  },
  {
   "cell_type": "markdown",
   "id": "8908d316-aa47-4bcb-9f51-ec7bb280fa29",
   "metadata": {},
   "source": [
    "### Baseline"
   ]
  },
  {
   "cell_type": "code",
   "execution_count": 6,
   "id": "8cda5e79-c058-41fc-9c0e-e78b92d5f730",
   "metadata": {},
   "outputs": [],
   "source": [
    "from sklearn.dummy import DummyRegressor"
   ]
  },
  {
   "cell_type": "code",
   "execution_count": 7,
   "id": "03e7fc24-a6f9-40d8-ad13-d1d7644eea1b",
   "metadata": {},
   "outputs": [],
   "source": [
    "from sklearn.dummy import DummyRegressor\n",
    "dummy_model, dummy_predictions, dummy_results = fp.fit_predict(DummyRegressor(strategy=\"mean\"), \n",
    "                                                            X_fit=X_train, y_fit=y_train,\n",
    "                                                            X_validate=X_test, y_validate=y_test,\n",
    "                                                            store=results)"
   ]
  },
  {
   "cell_type": "markdown",
   "id": "88261853-53fb-4394-b4a2-758beb8cf8b8",
   "metadata": {},
   "source": [
    "### Linear Regression\n",
    "https://scikit-learn.org/stable/modules/generated/sklearn.linear_model.LinearRegression.html#sklearn.linear_model.LinearRegression"
   ]
  },
  {
   "cell_type": "code",
   "execution_count": 8,
   "id": "33424cbf-343e-4f23-ad1e-06fce12f341a",
   "metadata": {},
   "outputs": [],
   "source": [
    "from sklearn.linear_model import LinearRegression"
   ]
  },
  {
   "cell_type": "code",
   "execution_count": 9,
   "id": "31ee9353-afce-4078-ba7a-1eff6e227354",
   "metadata": {},
   "outputs": [],
   "source": [
    "from sklearn.linear_model import LinearRegression\n",
    "linear_model, linear_predictions, linear_results = fp.fit_predict(LinearRegression(), \n",
    "                                                               X_fit=X_train, y_fit=y_train,\n",
    "                                                               X_validate=X_test, y_validate=y_test, \n",
    "                                                               store=results)"
   ]
  },
  {
   "cell_type": "markdown",
   "id": "cabe7818-0dc7-4246-9fda-7819d99bc3e9",
   "metadata": {},
   "source": [
    "### Support Vector Machine\n",
    "https://scikit-learn.org/stable/modules/generated/sklearn.svm.SVR.html#sklearn.svm.SVR"
   ]
  },
  {
   "cell_type": "code",
   "execution_count": 10,
   "id": "5eef671f-4072-4ec4-8571-e8550140104b",
   "metadata": {},
   "outputs": [],
   "source": [
    "from sklearn.svm import SVR"
   ]
  },
  {
   "cell_type": "code",
   "execution_count": 11,
   "id": "bd72a4d8-a2b6-4df9-9ecb-d15f4181088c",
   "metadata": {},
   "outputs": [],
   "source": [
    "svr_model, svr_predictions, svr_results = fp.fit_predict(SVR(kernel=\"rbf\", C=1, gamma=0.1, epsilon=0.1), store=results, X_fit=X_train, y_fit=y_train,\n",
    "                                                               X_validate=X_test, y_validate=y_test)"
   ]
  },
  {
   "cell_type": "markdown",
   "id": "3dcdce6c-d70d-4ba2-bef3-1a1baf98f71b",
   "metadata": {},
   "source": [
    "### ElasticNet\n",
    "https://scikit-learn.org/stable/modules/generated/sklearn.linear_model.ElasticNet.html#sklearn.linear_model.ElasticNet"
   ]
  },
  {
   "cell_type": "code",
   "execution_count": 12,
   "id": "8b367fc0-b278-4a6d-9102-d6826cebfc42",
   "metadata": {},
   "outputs": [],
   "source": [
    "from sklearn.linear_model import ElasticNet"
   ]
  },
  {
   "cell_type": "code",
   "execution_count": 13,
   "id": "f1e73260-29cf-434b-91d2-97c4c2da5910",
   "metadata": {},
   "outputs": [],
   "source": [
    "elastic_model, elastic_predictions, elastic_results = fp.fit_predict(ElasticNet(), \n",
    "                                                                     X_fit=X_train, y_fit=y_train,\n",
    "                                                               X_validate=X_test, y_validate=y_test, store=results)"
   ]
  },
  {
   "cell_type": "markdown",
   "id": "24592571-f4ef-49d5-bdf0-cb45d10037ca",
   "metadata": {},
   "source": [
    "### PLS Regression\n",
    "https://scikit-learn.org/stable/modules/generated/sklearn.cross_decomposition.PLSRegression.html#sklearn.cross_decomposition.PLSRegression"
   ]
  },
  {
   "cell_type": "code",
   "execution_count": 14,
   "id": "076955ee-ff67-4414-aea4-6ca4ec85ab23",
   "metadata": {},
   "outputs": [],
   "source": [
    "from sklearn.cross_decomposition import PLSRegression"
   ]
  },
  {
   "cell_type": "code",
   "execution_count": 15,
   "id": "9365468c-1222-48c3-a6ca-78a83161e327",
   "metadata": {},
   "outputs": [],
   "source": [
    "pls_model, pls_predictions, pls_results = fp.fit_predict(PLSRegression(), X_fit=X_train, y_fit=y_train,\n",
    "                                                               X_validate=X_test, y_validate=y_test, store=results)"
   ]
  },
  {
   "cell_type": "markdown",
   "id": "daebcd84-7059-4f62-bd25-3c4d99339bb8",
   "metadata": {},
   "source": [
    "### Gradient Boosting\n",
    "https://scikit-learn.org/stable/modules/generated/sklearn.ensemble.GradientBoostingRegressor.html#sklearn.ensemble.GradientBoostingRegressor"
   ]
  },
  {
   "cell_type": "code",
   "execution_count": 16,
   "id": "a6d77fd7-2460-4368-bfcc-ac54c8052713",
   "metadata": {},
   "outputs": [],
   "source": [
    "from sklearn.ensemble import GradientBoostingRegressor"
   ]
  },
  {
   "cell_type": "code",
   "execution_count": null,
   "id": "3c1190a8-9691-4058-9969-c88d0fabf9ca",
   "metadata": {},
   "outputs": [],
   "source": [
    "gbr_model, gbr_predictions, gbr_results = fp.fit_predict(GradientBoostingRegressor(), X_fit=X_train, y_fit=y_train,\n",
    "                                                               X_validate=X_test, y_validate=y_test, store=results)"
   ]
  },
  {
   "cell_type": "markdown",
   "id": "db5fae24-3773-4ebd-a95d-a159313f5234",
   "metadata": {},
   "source": [
    "### XGBoost\n",
    "https://xgboost.readthedocs.io/en/stable/python/python_api.html#module-xgboost.sklearn"
   ]
  },
  {
   "cell_type": "code",
   "execution_count": null,
   "id": "3115ae51-f143-4953-8cdf-68bcfd55e718",
   "metadata": {},
   "outputs": [],
   "source": [
    "from xgboost import XGBRegressor"
   ]
  },
  {
   "cell_type": "code",
   "execution_count": null,
   "id": "4047e6e4-b93f-4df1-8599-4a3f4527e90e",
   "metadata": {},
   "outputs": [],
   "source": [
    "xgb_model, xgb_predictions, xgb_results = fp.fit_predict(XGBRegressor(), X_fit=X_train, y_fit=y_train,\n",
    "                                                               X_validate=X_test, y_validate=y_test, store=results)"
   ]
  },
  {
   "cell_type": "markdown",
   "id": "e23b7cde-8d05-41dd-bef8-307c50c28981",
   "metadata": {},
   "source": [
    "### MLP\n",
    "https://scikit-learn.org/stable/modules/generated/sklearn.neural_network.MLPRegressor.html#sklearn.neural_network.MLPRegressor"
   ]
  },
  {
   "cell_type": "code",
   "execution_count": null,
   "id": "ef3e35c8-1261-4f5d-ac6f-86e036059b20",
   "metadata": {},
   "outputs": [],
   "source": [
    "from sklearn.neural_network import MLPRegressor"
   ]
  },
  {
   "cell_type": "code",
   "execution_count": null,
   "id": "302f4e8b-4f07-430c-96e2-ec76ab9ba33b",
   "metadata": {},
   "outputs": [],
   "source": [
    "mlp_model, mlp_predictions, mlp_results = fp.fit_predict(MLPRegressor(), X_fit=X_train, y_fit=y_train,\n",
    "                                                               X_validate=X_test, y_validate=y_test, store=results)"
   ]
  },
  {
   "cell_type": "markdown",
   "id": "fb4cbe3e-e541-485b-885f-4a39be954f35",
   "metadata": {},
   "source": [
    "### Results\n",
    "We can see that ensamble methods outperform the other methods. It would make sense to further look into these methods and dont invest more time into the other models."
   ]
  },
  {
   "cell_type": "code",
   "execution_count": null,
   "id": "18580b08-39f8-4e06-b340-09873341d51a",
   "metadata": {},
   "outputs": [],
   "source": [
    "results.get_df().sort_values(\"mse\")"
   ]
  },
  {
   "cell_type": "code",
   "execution_count": null,
   "id": "203c9eba-0e0c-43e5-a59e-3e1e49ffe5b6",
   "metadata": {},
   "outputs": [],
   "source": [
    "results.save(path=\"results\", name=\"simple.json\")"
   ]
  },
  {
   "cell_type": "code",
   "execution_count": null,
   "id": "e83b6d8c-9175-47c4-8bcc-95230d256590",
   "metadata": {},
   "outputs": [],
   "source": []
  }
 ],
 "metadata": {
  "kernelspec": {
   "display_name": "Python 3",
   "language": "python",
   "name": "python3"
  },
  "language_info": {
   "codemirror_mode": {
    "name": "ipython",
    "version": 3
   },
   "file_extension": ".py",
   "mimetype": "text/x-python",
   "name": "python",
   "nbconvert_exporter": "python",
   "pygments_lexer": "ipython3",
   "version": "3.9.13"
  }
 },
 "nbformat": 4,
 "nbformat_minor": 5
}
